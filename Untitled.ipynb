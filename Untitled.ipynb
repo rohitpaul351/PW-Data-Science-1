{
 "cells": [
  {
   "cell_type": "markdown",
   "id": "8c240011",
   "metadata": {},
   "source": [
    "# Question 1"
   ]
  },
  {
   "cell_type": "code",
   "execution_count": 1,
   "id": "cb398599",
   "metadata": {},
   "outputs": [
    {
     "name": "stdout",
     "output_type": "stream",
     "text": [
      "Enter a string: Rohit\n",
      "Reversed string: tihoR\n"
     ]
    }
   ],
   "source": [
    "def reverse_string(input_str):\n",
    "    reversed_str = \"\"\n",
    "    for char in input_str:\n",
    "        reversed_str = char + reversed_str\n",
    "    return reversed_str\n",
    "\n",
    "# Test the function\n",
    "string = input(\"Enter a string: \")\n",
    "reversed_string = reverse_string(string)\n",
    "print(\"Reversed string:\", reversed_string)"
   ]
  },
  {
   "cell_type": "markdown",
   "id": "99126fb4",
   "metadata": {},
   "source": [
    "# Question 2"
   ]
  },
  {
   "cell_type": "code",
   "execution_count": 2,
   "id": "99a97b43",
   "metadata": {},
   "outputs": [
    {
     "name": "stdout",
     "output_type": "stream",
     "text": [
      "Enter a string: madam\n",
      "The string is a palindrome.\n"
     ]
    }
   ],
   "source": [
    "def is_palindrome(input_str):\n",
    "    input_str = input_str.replace(\" \", \"\").lower()\n",
    "    \n",
    "    return input_str == input_str[::-1]\n",
    "\n",
    "string = input(\"Enter a string: \")\n",
    "if is_palindrome(string):\n",
    "    print(\"The string is a palindrome.\")\n",
    "else:\n",
    "    print(\"The string is not a palindrome.\")"
   ]
  },
  {
   "cell_type": "markdown",
   "id": "dc7a1f4a",
   "metadata": {},
   "source": [
    "# Question 3"
   ]
  },
  {
   "cell_type": "code",
   "execution_count": 3,
   "id": "2a55a4c5",
   "metadata": {},
   "outputs": [
    {
     "name": "stdout",
     "output_type": "stream",
     "text": [
      "Enter a list of numbers: 1 9 3 4 6 3 2 5 3 3\n",
      "The largest number is: 9\n"
     ]
    }
   ],
   "source": [
    "def find_largest_element(lst):\n",
    "    if not lst:\n",
    "        return None\n",
    "    largest = lst[0]\n",
    "    for num in lst:\n",
    "        if num > largest:\n",
    "            largest = num\n",
    "    return largest\n",
    "\n",
    "numbers = input(\"Enter a list of numbers: \").split()\n",
    "numbers = [int(num) for num in numbers]\n",
    "largest_number = find_largest_element(numbers)\n",
    "if largest_number is not None:\n",
    "    print(\"The largest number is:\", largest_number)\n",
    "else:\n",
    "    print(\"The list is empty.\")"
   ]
  },
  {
   "cell_type": "markdown",
   "id": "5a84dda0",
   "metadata": {},
   "source": [
    "# Question 4"
   ]
  },
  {
   "cell_type": "code",
   "execution_count": 4,
   "id": "151a60ce",
   "metadata": {},
   "outputs": [
    {
     "name": "stdout",
     "output_type": "stream",
     "text": [
      "Enter a list of elements4 3 4 5 3 2 5 3 3 4 3 2 5 6 7 6 8 9\n",
      "Occurrences: {'4': 3, '3': 5, '5': 3, '2': 2, '6': 2, '7': 1, '8': 1, '9': 1}\n"
     ]
    }
   ],
   "source": [
    "def count_occurrences(lst):\n",
    "    occurrence_count = {}\n",
    "    for element in lst:\n",
    "        if element in occurrence_count:\n",
    "            occurrence_count[element] += 1\n",
    "        else:\n",
    "            occurrence_count[element] = 1\n",
    "    return occurrence_count\n",
    "\n",
    "# Test the function\n",
    "elements = input(\"Enter a list of elements\").split()\n",
    "occurrences = count_occurrences(elements)\n",
    "print(\"Occurrences:\", occurrences)"
   ]
  },
  {
   "cell_type": "markdown",
   "id": "31db1712",
   "metadata": {},
   "source": [
    "# Question 5"
   ]
  },
  {
   "cell_type": "code",
   "execution_count": 7,
   "id": "17263e88",
   "metadata": {},
   "outputs": [
    {
     "name": "stdout",
     "output_type": "stream",
     "text": [
      "Enter a list of numbers1 2 3 4 5 2 7 7\n",
      "The second largest number is: 5\n"
     ]
    }
   ],
   "source": [
    "def find_second_largest(lst):\n",
    "    if len(lst) < 2:\n",
    "        return None\n",
    "    largest = float('-inf')\n",
    "    second_largest = float('-inf')\n",
    "    for num in lst:\n",
    "        if num > largest:\n",
    "            second_largest = largest\n",
    "            largest = num\n",
    "        elif num > second_largest and num != largest:\n",
    "            second_largest = num\n",
    "    return second_largest\n",
    "\n",
    "# Test the function\n",
    "numbers = input(\"Enter a list of numbers\").split()\n",
    "numbers = [int(num) for num in numbers]\n",
    "second_largest_number = find_second_largest(numbers)\n",
    "if second_largest_number is not None:\n",
    "    print(\"The second largest number is:\", second_largest_number)\n",
    "elif len(numbers) < 2:\n",
    "    print(\"The list has less than 2 elements.\")\n",
    "else:\n",
    "    print(\"All numbers in the list are the same.\")"
   ]
  },
  {
   "cell_type": "markdown",
   "id": "67a2449f",
   "metadata": {},
   "source": [
    "# Question 6"
   ]
  },
  {
   "cell_type": "code",
   "execution_count": 8,
   "id": "e655b619",
   "metadata": {},
   "outputs": [
    {
     "name": "stdout",
     "output_type": "stream",
     "text": [
      "Enter a list of elements1 2 3 4 5 6 7 9 9 2 3 4 2\n",
      "Unique elements: ['1', '2', '3', '4', '5', '6', '7', '9']\n"
     ]
    }
   ],
   "source": [
    "def remove_duplicates(lst):\n",
    "    seen = set()\n",
    "    result = []\n",
    "    for element in lst:\n",
    "        if element not in seen:\n",
    "            seen.add(element)\n",
    "            result.append(element)\n",
    "    return result\n",
    "\n",
    "# Test the function\n",
    "elements = input(\"Enter a list of elements\").split()\n",
    "unique_elements = remove_duplicates(elements)\n",
    "print(\"Unique elements:\", unique_elements)\n"
   ]
  },
  {
   "cell_type": "markdown",
   "id": "4652afd2",
   "metadata": {},
   "source": [
    "# Question 7"
   ]
  },
  {
   "cell_type": "code",
   "execution_count": 9,
   "id": "1de940ab",
   "metadata": {},
   "outputs": [
    {
     "name": "stdout",
     "output_type": "stream",
     "text": [
      "Enter a number: 5\n",
      "Factorial: 120\n"
     ]
    }
   ],
   "source": [
    "def factorial(n):\n",
    "    if n < 0:\n",
    "        return None\n",
    "    elif n == 0:\n",
    "        return 1\n",
    "    else:\n",
    "        result = 1\n",
    "        for i in range(1, n + 1):\n",
    "            result *= i\n",
    "        return result\n",
    "\n",
    "# Test the function\n",
    "number = int(input(\"Enter a number: \"))\n",
    "factorial_result = factorial(number)\n",
    "if factorial_result is not None:\n",
    "    print(\"Factorial:\", factorial_result)\n",
    "else:\n",
    "    print(\"Factorial is undefined for negative numbers.\")"
   ]
  },
  {
   "cell_type": "markdown",
   "id": "8b816e5f",
   "metadata": {},
   "source": [
    "# Question 8"
   ]
  },
  {
   "cell_type": "code",
   "execution_count": 11,
   "id": "b73b6701",
   "metadata": {},
   "outputs": [
    {
     "name": "stdout",
     "output_type": "stream",
     "text": [
      "Enter a number: 7\n",
      "The number is prime.\n"
     ]
    }
   ],
   "source": [
    "def is_prime(n):\n",
    "    if n < 2:\n",
    "        return False\n",
    "    for i in range(2, int(n**0.5) + 1):\n",
    "        if n % i == 0:\n",
    "            return False\n",
    "    return True\n",
    "\n",
    "number = int(input(\"Enter a number: \"))\n",
    "if is_prime(number):\n",
    "    print(\"The number is prime.\")\n",
    "else:\n",
    "    print(\"The number is not prime.\")"
   ]
  },
  {
   "cell_type": "markdown",
   "id": "46f7a734",
   "metadata": {},
   "source": [
    "# Question 9"
   ]
  },
  {
   "cell_type": "code",
   "execution_count": 13,
   "id": "5055d61b",
   "metadata": {},
   "outputs": [
    {
     "name": "stdout",
     "output_type": "stream",
     "text": [
      "Enter a list of numbers9 3 4  5 234 2345 4231 123 \n",
      "Sorted list: [3, 4, 5, 9, 123, 234, 2345, 4231]\n"
     ]
    }
   ],
   "source": [
    "def sort_list(lst):\n",
    "    sorted_lst = lst[:]\n",
    "    sorted_lst.sort()\n",
    "    return sorted_lst\n",
    "\n",
    "# Test the function\n",
    "numbers = input(\"Enter a list of numbers\").split()\n",
    "numbers = [int(num) for num in numbers]\n",
    "sorted_numbers = sort_list(numbers)\n",
    "print(\"Sorted list:\", sorted_numbers)"
   ]
  },
  {
   "cell_type": "markdown",
   "id": "c0db3c44",
   "metadata": {},
   "source": [
    "# Question 10"
   ]
  },
  {
   "cell_type": "code",
   "execution_count": 14,
   "id": "f97c220b",
   "metadata": {},
   "outputs": [
    {
     "name": "stdout",
     "output_type": "stream",
     "text": [
      "Enter a list of numbers :8 7 9 3 4 2 5 3 6\n",
      "Sum of numbers: 47\n"
     ]
    }
   ],
   "source": [
    "def find_sum(lst):\n",
    "    total = 0\n",
    "    for num in lst:\n",
    "        total += num\n",
    "    return total\n",
    "\n",
    "# Test the function\n",
    "numbers = input(\"Enter a list of numbers : \").split()\n",
    "numbers = [int(num) for num in numbers]\n",
    "sum_of_numbers = find_sum(numbers)\n",
    "print(\"Sum of numbers:\", sum_of_numbers)"
   ]
  },
  {
   "cell_type": "markdown",
   "id": "1ab73326",
   "metadata": {},
   "source": [
    "# Question 11"
   ]
  },
  {
   "cell_type": "code",
   "execution_count": 15,
   "id": "2c482324",
   "metadata": {},
   "outputs": [
    {
     "name": "stdout",
     "output_type": "stream",
     "text": [
      "Enter elements of the first list : 1 2 3 4 5 6\n",
      "Enter elements of the second list: 7 8 9 3 2 1 4\n",
      "Common elements: ['4', '3', '2', '1']\n"
     ]
    }
   ],
   "source": [
    "def find_common_elements(list1, list2):\n",
    "    common_elements = set(list1) & set(list2)\n",
    "    return list(common_elements)\n",
    "\n",
    "# Test the function\n",
    "list1 = input(\"Enter elements of the first list : \").split()\n",
    "list2 = input(\"Enter elements of the second list: \").split()\n",
    "\n",
    "common_elements = find_common_elements(list1, list2)\n",
    "if common_elements:\n",
    "    print(\"Common elements:\", common_elements)\n",
    "else:\n",
    "    print(\"No common elements found.\")"
   ]
  },
  {
   "cell_type": "markdown",
   "id": "fc4a7371",
   "metadata": {},
   "source": [
    "# Question 12"
   ]
  },
  {
   "cell_type": "code",
   "execution_count": 16,
   "id": "4fa7c8da",
   "metadata": {},
   "outputs": [
    {
     "name": "stdout",
     "output_type": "stream",
     "text": [
      "Enter the first string: ABCDEF\n",
      "Enter the second string: BCDAEF\n",
      "The strings are anagrams.\n"
     ]
    }
   ],
   "source": [
    "def is_anagram(str1, str2):\n",
    "    str1 = str1.lower()\n",
    "    str2 = str2.lower()\n",
    "    return sorted(str1) == sorted(str2)\n",
    "\n",
    "# Test the function\n",
    "string1 = input(\"Enter the first string: \")\n",
    "string2 = input(\"Enter the second string: \")\n",
    "\n",
    "if is_anagram(string1, string2):\n",
    "    print(\"The strings are anagrams.\")\n",
    "else:\n",
    "    print(\"The strings are not anagrams.\")"
   ]
  },
  {
   "cell_type": "markdown",
   "id": "b69d6058",
   "metadata": {},
   "source": [
    "# Question 13"
   ]
  },
  {
   "cell_type": "code",
   "execution_count": 17,
   "id": "eb5f1678",
   "metadata": {},
   "outputs": [
    {
     "name": "stdout",
     "output_type": "stream",
     "text": [
      "Enter a string: Rohit\n",
      "Permutations:\n",
      "Rohit\n",
      "Rohti\n",
      "Roiht\n",
      "Roith\n",
      "Rothi\n",
      "Rotih\n",
      "Rhoit\n",
      "Rhoti\n",
      "Rhiot\n",
      "Rhito\n",
      "Rhtoi\n",
      "Rhtio\n",
      "Rioht\n",
      "Rioth\n",
      "Rihot\n",
      "Rihto\n",
      "Ritoh\n",
      "Ritho\n",
      "Rtohi\n",
      "Rtoih\n",
      "Rthoi\n",
      "Rthio\n",
      "Rtioh\n",
      "Rtiho\n",
      "oRhit\n",
      "oRhti\n",
      "oRiht\n",
      "oRith\n",
      "oRthi\n",
      "oRtih\n",
      "ohRit\n",
      "ohRti\n",
      "ohiRt\n",
      "ohitR\n",
      "ohtRi\n",
      "ohtiR\n",
      "oiRht\n",
      "oiRth\n",
      "oihRt\n",
      "oihtR\n",
      "oitRh\n",
      "oithR\n",
      "otRhi\n",
      "otRih\n",
      "othRi\n",
      "othiR\n",
      "otiRh\n",
      "otihR\n",
      "hRoit\n",
      "hRoti\n",
      "hRiot\n",
      "hRito\n",
      "hRtoi\n",
      "hRtio\n",
      "hoRit\n",
      "hoRti\n",
      "hoiRt\n",
      "hoitR\n",
      "hotRi\n",
      "hotiR\n",
      "hiRot\n",
      "hiRto\n",
      "hioRt\n",
      "hiotR\n",
      "hitRo\n",
      "hitoR\n",
      "htRoi\n",
      "htRio\n",
      "htoRi\n",
      "htoiR\n",
      "htiRo\n",
      "htioR\n",
      "iRoht\n",
      "iRoth\n",
      "iRhot\n",
      "iRhto\n",
      "iRtoh\n",
      "iRtho\n",
      "ioRht\n",
      "ioRth\n",
      "iohRt\n",
      "iohtR\n",
      "iotRh\n",
      "iothR\n",
      "ihRot\n",
      "ihRto\n",
      "ihoRt\n",
      "ihotR\n",
      "ihtRo\n",
      "ihtoR\n",
      "itRoh\n",
      "itRho\n",
      "itoRh\n",
      "itohR\n",
      "ithRo\n",
      "ithoR\n",
      "tRohi\n",
      "tRoih\n",
      "tRhoi\n",
      "tRhio\n",
      "tRioh\n",
      "tRiho\n",
      "toRhi\n",
      "toRih\n",
      "tohRi\n",
      "tohiR\n",
      "toiRh\n",
      "toihR\n",
      "thRoi\n",
      "thRio\n",
      "thoRi\n",
      "thoiR\n",
      "thiRo\n",
      "thioR\n",
      "tiRoh\n",
      "tiRho\n",
      "tioRh\n",
      "tiohR\n",
      "tihRo\n",
      "tihoR\n"
     ]
    }
   ],
   "source": [
    "def generate_permutations(string):\n",
    "    if len(string) == 1:\n",
    "        return [string]\n",
    "\n",
    "    permutations = []\n",
    "    for i in range(len(string)):\n",
    "        first_char = string[i]\n",
    "        remaining_chars = string[:i] + string[i+1:]\n",
    "        for sub_permutation in generate_permutations(remaining_chars):\n",
    "            permutations.append(first_char + sub_permutation)\n",
    "\n",
    "    return permutations\n",
    "\n",
    "string = input(\"Enter a string: \")\n",
    "permutations = generate_permutations(string)\n",
    "print(\"Permutations:\")\n",
    "for permutation in permutations:\n",
    "    print(permutation)"
   ]
  },
  {
   "cell_type": "markdown",
   "id": "eae19226",
   "metadata": {},
   "source": [
    "# Question 14"
   ]
  },
  {
   "cell_type": "code",
   "execution_count": 18,
   "id": "270ab624",
   "metadata": {},
   "outputs": [
    {
     "name": "stdout",
     "output_type": "stream",
     "text": [
      "Enter the number of terms: 10\n",
      "Fibonacci sequence: [0, 1, 1, 2, 3, 5, 8, 13, 21, 34]\n"
     ]
    }
   ],
   "source": [
    "def fibonacci_sequence(n):\n",
    "    sequence = []\n",
    "    if n >= 1:\n",
    "        sequence.append(0)\n",
    "    if n >= 2:\n",
    "        sequence.append(1)\n",
    "    for i in range(2, n):\n",
    "        next_term = sequence[i-1] + sequence[i-2]\n",
    "        sequence.append(next_term)\n",
    "    return sequence\n",
    "\n",
    "# Test the function\n",
    "terms = int(input(\"Enter the number of terms: \"))\n",
    "fibonacci_sequence = fibonacci_sequence(terms)\n",
    "print(\"Fibonacci sequence:\", fibonacci_sequence)"
   ]
  },
  {
   "cell_type": "markdown",
   "id": "68bca40e",
   "metadata": {},
   "source": [
    "# Question 15"
   ]
  },
  {
   "cell_type": "code",
   "execution_count": 24,
   "id": "594ceb04",
   "metadata": {},
   "outputs": [
    {
     "name": "stdout",
     "output_type": "stream",
     "text": [
      "Enter a list of numbers: 1 2 3 4 5 6 7 8\n",
      "Median: 4.5\n"
     ]
    }
   ],
   "source": [
    "def find_median(numbers):\n",
    "    sorted_numbers = sorted(numbers)\n",
    "    n = len(sorted_numbers)\n",
    "    if n % 2 == 0:\n",
    "        mid1 = sorted_numbers[n // 2 - 1]\n",
    "        mid2 = sorted_numbers[n // 2]\n",
    "        median = (mid1 + mid2) / 2\n",
    "    else:\n",
    "        median = sorted_numbers[n // 2]\n",
    "    return median\n",
    "\n",
    "# Test the function\n",
    "numbers = input(\"Enter a list of numbers: \").split()\n",
    "numbers = [float(num) for num in numbers]  \n",
    "median = find_median(numbers)\n",
    "print(\"Median:\", median)"
   ]
  },
  {
   "cell_type": "markdown",
   "id": "7e72f87d",
   "metadata": {},
   "source": [
    "# Question 16"
   ]
  },
  {
   "cell_type": "code",
   "execution_count": 25,
   "id": "44be3b74",
   "metadata": {},
   "outputs": [
    {
     "name": "stdout",
     "output_type": "stream",
     "text": [
      "Enter a list of numbers : 2 3 45 2  5 6 3 3 2\n",
      "The list is not sorted in non-decreasing order.\n"
     ]
    }
   ],
   "source": [
    "def is_sorted(lst):\n",
    "    for i in range(len(lst) - 1):\n",
    "        if lst[i] > lst[i + 1]:\n",
    "            return False\n",
    "    return True\n",
    "\n",
    "# Test the function\n",
    "numbers = input(\"Enter a list of numbers : \").split()\n",
    "numbers = [int(num) for num in numbers]  # Convert input to integers\n",
    "if is_sorted(numbers):\n",
    "    print(\"The list is sorted in non-decreasing order.\")\n",
    "else:\n",
    "    print(\"The list is not sorted in non-decreasing order.\")"
   ]
  },
  {
   "cell_type": "markdown",
   "id": "a748ac7d",
   "metadata": {},
   "source": [
    "# Question 17"
   ]
  },
  {
   "cell_type": "code",
   "execution_count": 27,
   "id": "f95bc872",
   "metadata": {},
   "outputs": [
    {
     "name": "stdout",
     "output_type": "stream",
     "text": [
      "Enter elements of the first list: 1 2 3 4 2 3 5\n",
      "Enter elements of the second list: 7 6 5 4 3 1 1\n",
      "Intersection: ['4', '5', '3', '1']\n"
     ]
    }
   ],
   "source": [
    "def find_intersection(list1, list2):\n",
    "    intersection = set(list1) & set(list2)\n",
    "    return list(intersection)\n",
    "\n",
    "# Test the function\n",
    "list1 = input(\"Enter elements of the first list: \").split()\n",
    "list2 = input(\"Enter elements of the second list: \").split()\n",
    "\n",
    "intersection = find_intersection(list1, list2)\n",
    "if intersection:\n",
    "    print(\"Intersection:\", intersection)\n",
    "else:\n",
    "    print(\"No intersection found.\")"
   ]
  },
  {
   "cell_type": "markdown",
   "id": "0fbf11bb",
   "metadata": {},
   "source": [
    "# Question 18"
   ]
  },
  {
   "cell_type": "code",
   "execution_count": 28,
   "id": "de838426",
   "metadata": {},
   "outputs": [
    {
     "name": "stdout",
     "output_type": "stream",
     "text": [
      "Enter a list of numbers: 2 3 1 3 4 5 3 5\n",
      "Maximum subarray sum: 26\n"
     ]
    }
   ],
   "source": [
    "def max_subarray_sum(nums):\n",
    "    if not nums:\n",
    "        return 0\n",
    "\n",
    "    max_sum = float('-inf')\n",
    "    current_sum = 0\n",
    "\n",
    "    for num in nums:\n",
    "        current_sum = max(num, current_sum + num)\n",
    "        max_sum = max(max_sum, current_sum)\n",
    "\n",
    "    return max_sum\n",
    "\n",
    "# Test the function\n",
    "numbers = input(\"Enter a list of numbers: \").split()\n",
    "numbers = [int(num) for num in numbers]  # Convert input to integers\n",
    "max_sum = max_subarray_sum(numbers)\n",
    "print(\"Maximum subarray sum:\", max_sum)"
   ]
  },
  {
   "cell_type": "markdown",
   "id": "f350d889",
   "metadata": {},
   "source": [
    "# Question 19"
   ]
  },
  {
   "cell_type": "code",
   "execution_count": 30,
   "id": "5d3e0db0",
   "metadata": {},
   "outputs": [
    {
     "name": "stdout",
     "output_type": "stream",
     "text": [
      "Enter a string: Rohit\n",
      "Result: Rht\n"
     ]
    }
   ],
   "source": [
    "def remove_vowels(string):\n",
    "    vowels = 'aeiouAEIOU'\n",
    "    return ''.join(char for char in string if char not in vowels)\n",
    "\n",
    "# Test the function\n",
    "string = input(\"Enter a string: \")\n",
    "result = remove_vowels(string)\n",
    "print(\"Result:\", result)"
   ]
  },
  {
   "cell_type": "markdown",
   "id": "fde8aa5c",
   "metadata": {},
   "source": [
    "# Question 20"
   ]
  },
  {
   "cell_type": "code",
   "execution_count": 31,
   "id": "6a6294a4",
   "metadata": {},
   "outputs": [
    {
     "name": "stdout",
     "output_type": "stream",
     "text": [
      "Enter a sentence: My name Rohit Paul\n",
      "Result: Paul Rohit name My\n"
     ]
    }
   ],
   "source": [
    "def reverse_words(sentence):\n",
    "    words = sentence.split()\n",
    "    reversed_words = words[::-1]\n",
    "    reversed_sentence = ' '.join(reversed_words)\n",
    "    return reversed_sentence\n",
    "\n",
    "# Test the function\n",
    "sentence = input(\"Enter a sentence: \")\n",
    "result = reverse_words(sentence)\n",
    "print(\"Result:\", result)"
   ]
  },
  {
   "cell_type": "markdown",
   "id": "27fb8aa8",
   "metadata": {},
   "source": [
    "# Question 21"
   ]
  },
  {
   "cell_type": "code",
   "execution_count": 32,
   "id": "48ac0b4f",
   "metadata": {},
   "outputs": [
    {
     "name": "stdout",
     "output_type": "stream",
     "text": [
      "Enter the first string: Rohit\n",
      "Enter the second string: thior\n",
      "The strings are anagrams.\n"
     ]
    }
   ],
   "source": [
    "def is_anagram(str1, str2):\n",
    "    str1 = str1.lower()\n",
    "    str2 = str2.lower()\n",
    "    return sorted(str1) == sorted(str2)\n",
    "\n",
    "# Test the function\n",
    "string1 = input(\"Enter the first string: \")\n",
    "string2 = input(\"Enter the second string: \")\n",
    "\n",
    "if is_anagram(string1, string2):\n",
    "    print(\"The strings are anagrams.\")\n",
    "else:\n",
    "    print(\"The strings are not anagrams.\")"
   ]
  },
  {
   "cell_type": "markdown",
   "id": "684c3098",
   "metadata": {},
   "source": [
    "# Question 22"
   ]
  },
  {
   "cell_type": "code",
   "execution_count": 34,
   "id": "3e950a32",
   "metadata": {},
   "outputs": [
    {
     "name": "stdout",
     "output_type": "stream",
     "text": [
      "Enter a string: RRohhiit\n",
      "First non-repeating character: o\n"
     ]
    }
   ],
   "source": [
    "def find_first_non_repeating_char(string):\n",
    "    char_counts = {}\n",
    "    for char in string:\n",
    "        if char in char_counts:\n",
    "            char_counts[char] += 1\n",
    "        else:\n",
    "            char_counts[char] = 1\n",
    "\n",
    "    for char in string:\n",
    "        if char_counts[char] == 1:\n",
    "            return char\n",
    "\n",
    "    return None\n",
    "\n",
    "# Test the function\n",
    "string = input(\"Enter a string: \")\n",
    "result = find_first_non_repeating_char(string)\n",
    "if result:\n",
    "    print(\"First non-repeating character:\", result)\n",
    "else:\n",
    "    print(\"No non-repeating character found.\")"
   ]
  },
  {
   "cell_type": "markdown",
   "id": "84d06cb9",
   "metadata": {},
   "source": [
    "# Question 23"
   ]
  },
  {
   "cell_type": "code",
   "execution_count": 35,
   "id": "e3b6f1bb",
   "metadata": {},
   "outputs": [
    {
     "name": "stdout",
     "output_type": "stream",
     "text": [
      "Enter a number: 8\n",
      "Prime factors: [2, 2, 2]\n"
     ]
    }
   ],
   "source": [
    "def find_prime_factors(n):\n",
    "    factors = []\n",
    "    i = 2\n",
    "    while i <= n:\n",
    "        if n % i == 0:\n",
    "            factors.append(i)\n",
    "            n = n // i\n",
    "        else:\n",
    "            i += 1\n",
    "    return factors\n",
    "\n",
    "# Test the function\n",
    "number = int(input(\"Enter a number: \"))\n",
    "prime_factors = find_prime_factors(number)\n",
    "print(\"Prime factors:\", prime_factors)"
   ]
  },
  {
   "cell_type": "markdown",
   "id": "3e27d781",
   "metadata": {},
   "source": [
    "# Question 24"
   ]
  },
  {
   "cell_type": "code",
   "execution_count": 38,
   "id": "1338af56",
   "metadata": {},
   "outputs": [
    {
     "name": "stdout",
     "output_type": "stream",
     "text": [
      "Enter a number: 65\n",
      "The number is not a power of two.\n"
     ]
    }
   ],
   "source": [
    "def is_power_of_two(n):\n",
    "    if n <= 0:\n",
    "        return False\n",
    "    return (n & (n - 1)) == 0\n",
    "\n",
    "# Test the function\n",
    "number = int(input(\"Enter a number: \"))\n",
    "if is_power_of_two(number):\n",
    "    print(\"The number is a power of two.\")\n",
    "else:\n",
    "    print(\"The number is not a power of two.\")"
   ]
  },
  {
   "cell_type": "markdown",
   "id": "24c48c4f",
   "metadata": {},
   "source": [
    "# Question 25"
   ]
  },
  {
   "cell_type": "code",
   "execution_count": 40,
   "id": "4be94bb5",
   "metadata": {},
   "outputs": [
    {
     "name": "stdout",
     "output_type": "stream",
     "text": [
      "Enter elements of the first sorted list: 1 2 3 4 5 6 7\n",
      "Enter elements of the second sorted list: 3 4 5 6 7 8 9 \n",
      "Merged list: [1, 2, 3, 3, 4, 4, 5, 5, 6, 6, 7, 7, 8, 9]\n"
     ]
    }
   ],
   "source": [
    "def merge_sorted_lists(list1, list2):\n",
    "    merged_list = []\n",
    "    i, j = 0, 0\n",
    "\n",
    "    while i < len(list1) and j < len(list2):\n",
    "        if list1[i] <= list2[j]:\n",
    "            merged_list.append(list1[i])\n",
    "            i += 1\n",
    "        else:\n",
    "            merged_list.append(list2[j])\n",
    "            j += 1\n",
    "\n",
    "    merged_list.extend(list1[i:])\n",
    "    merged_list.extend(list2[j:])\n",
    "\n",
    "    return merged_list\n",
    "\n",
    "# Test the function\n",
    "list1 = input(\"Enter elements of the first sorted list: \").split()\n",
    "list2 = input(\"Enter elements of the second sorted list: \").split()\n",
    "list1 = [int(num) for num in list1]  # Convert input to integers\n",
    "list2 = [int(num) for num in list2]  # Convert input to integers\n",
    "\n",
    "merged_list = merge_sorted_lists(list1, list2)\n",
    "print(\"Merged list:\", merged_list)"
   ]
  },
  {
   "cell_type": "markdown",
   "id": "f489f2fc",
   "metadata": {},
   "source": [
    "# Question 26"
   ]
  },
  {
   "cell_type": "code",
   "execution_count": 41,
   "id": "9b933f0d",
   "metadata": {},
   "outputs": [
    {
     "name": "stdout",
     "output_type": "stream",
     "text": [
      "Enter a list of numbers: 3 4 5 6 3 4 3 2 5 6 7\n",
      "Mode(s): [3]\n"
     ]
    }
   ],
   "source": [
    "from collections import Counter\n",
    "\n",
    "def find_mode(numbers):\n",
    "    count = Counter(numbers)\n",
    "    max_count = max(count.values())\n",
    "    modes = [num for num, freq in count.items() if freq == max_count]\n",
    "    return modes\n",
    "\n",
    "# Test the function\n",
    "numbers = input(\"Enter a list of numbers: \").split()\n",
    "numbers = [int(num) for num in numbers]  # Convert input to integers\n",
    "modes = find_mode(numbers)\n",
    "print(\"Mode(s):\", modes)"
   ]
  },
  {
   "cell_type": "markdown",
   "id": "b92d2c44",
   "metadata": {},
   "source": [
    "# Question 27"
   ]
  },
  {
   "cell_type": "code",
   "execution_count": 42,
   "id": "b9ac06de",
   "metadata": {},
   "outputs": [
    {
     "name": "stdout",
     "output_type": "stream",
     "text": [
      "Enter the first number: 6 \n",
      "Enter the second number: 8\n",
      "Greatest Common Divisor (GCD): 2\n"
     ]
    }
   ],
   "source": [
    "def find_gcd(a, b):\n",
    "    while b != 0:\n",
    "        a, b = b, a % b\n",
    "    return a\n",
    "\n",
    "# Test the function\n",
    "number1 = int(input(\"Enter the first number: \"))\n",
    "number2 = int(input(\"Enter the second number: \"))\n",
    "gcd = find_gcd(number1, number2)\n",
    "print(\"Greatest Common Divisor (GCD):\", gcd)"
   ]
  },
  {
   "cell_type": "markdown",
   "id": "d069df99",
   "metadata": {},
   "source": [
    "# Question 28"
   ]
  },
  {
   "cell_type": "code",
   "execution_count": 44,
   "id": "40a7736c",
   "metadata": {},
   "outputs": [
    {
     "name": "stdout",
     "output_type": "stream",
     "text": [
      "Enter a number: 100\n",
      "Square root: 10.0\n"
     ]
    }
   ],
   "source": [
    "def square_root(n):\n",
    "    if n < 0:\n",
    "        return None\n",
    "\n",
    "    if n == 0:\n",
    "        return 0\n",
    "\n",
    "    x = n\n",
    "    y = (x + 1) // 2\n",
    "\n",
    "    while y < x:\n",
    "        x = y\n",
    "        y = (x + n // x) // 2\n",
    "\n",
    "    return x\n",
    "\n",
    "# Test the function\n",
    "number = float(input(\"Enter a number: \"))\n",
    "result = square_root(number)\n",
    "if result is not None:\n",
    "    print(\"Square root:\", result)\n",
    "else:\n",
    "    print(\"Square root is undefined for negative numbers.\")"
   ]
  },
  {
   "cell_type": "markdown",
   "id": "ad8afb0b",
   "metadata": {},
   "source": [
    "# Question 29"
   ]
  },
  {
   "cell_type": "code",
   "execution_count": 45,
   "id": "e2d72fae",
   "metadata": {},
   "outputs": [
    {
     "name": "stdout",
     "output_type": "stream",
     "text": [
      "Enter a string: madam\n",
      "The string is a valid palindrome.\n"
     ]
    }
   ],
   "source": [
    "import re\n",
    "\n",
    "def is_valid_palindrome(string):\n",
    "    alphanumeric_string = re.sub(r'\\W+', '', string.lower())\n",
    "    return alphanumeric_string == alphanumeric_string[::-1]\n",
    "\n",
    "# Test the function\n",
    "string = input(\"Enter a string: \")\n",
    "if is_valid_palindrome(string):\n",
    "    print(\"The string is a valid palindrome.\")\n",
    "else:\n",
    "    print(\"The string is not a valid palindrome.\")"
   ]
  },
  {
   "cell_type": "markdown",
   "id": "2f302033",
   "metadata": {},
   "source": [
    "# Question 30"
   ]
  },
  {
   "cell_type": "code",
   "execution_count": 47,
   "id": "4dc3dce8",
   "metadata": {},
   "outputs": [
    {
     "name": "stdout",
     "output_type": "stream",
     "text": [
      "Enter a list of numbers: 3 4 5 6 7 8 9\n",
      "Minimum element: 3\n"
     ]
    }
   ],
   "source": [
    "def find_minimum(nums):\n",
    "    low = 0\n",
    "    high = len(nums) - 1\n",
    "\n",
    "    while low < high:\n",
    "        mid = low + (high - low) // 2\n",
    "\n",
    "        if nums[mid] > nums[high]:\n",
    "            low = mid + 1\n",
    "        else:\n",
    "            high = mid\n",
    "\n",
    "    return nums[low]\n",
    "\n",
    "# Test the function\n",
    "numbers = input(\"Enter a list of numbers: \").split()\n",
    "numbers = [int(num) for num in numbers]  # Convert input to integers\n",
    "minimum = find_minimum(numbers)\n",
    "print(\"Minimum element:\", minimum)"
   ]
  },
  {
   "cell_type": "markdown",
   "id": "96818e13",
   "metadata": {},
   "source": [
    "# Question 31"
   ]
  },
  {
   "cell_type": "code",
   "execution_count": 48,
   "id": "216919c9",
   "metadata": {},
   "outputs": [
    {
     "name": "stdout",
     "output_type": "stream",
     "text": [
      "Enter a list of numbers: 1 2 3 4 5 6\n",
      "Sum of even numbers: 12\n"
     ]
    }
   ],
   "source": [
    "def find_sum_of_evens(numbers):\n",
    "    evens = [num for num in numbers if num % 2 == 0]\n",
    "    return sum(evens)\n",
    "\n",
    "# Test the function\n",
    "numbers = input(\"Enter a list of numbers: \").split()\n",
    "numbers = [int(num) for num in numbers]  # Convert input to integers\n",
    "sum_of_evens = find_sum_of_evens(numbers)\n",
    "print(\"Sum of even numbers:\", sum_of_evens)"
   ]
  },
  {
   "cell_type": "markdown",
   "id": "d3fc4981",
   "metadata": {},
   "source": [
    "# Question 32"
   ]
  },
  {
   "cell_type": "code",
   "execution_count": 49,
   "id": "d569f61c",
   "metadata": {},
   "outputs": [
    {
     "name": "stdout",
     "output_type": "stream",
     "text": [
      "Enter the base number: 3\n",
      "Enter the exponent: 4\n",
      "Result: 81.0\n"
     ]
    }
   ],
   "source": [
    "def power(base, exponent):\n",
    "    if exponent == 0:\n",
    "        return 1\n",
    "    elif exponent > 0:\n",
    "        return base * power(base, exponent - 1)\n",
    "    else:\n",
    "        return 1 / base * power(base, exponent + 1)\n",
    "\n",
    "base = float(input(\"Enter the base number: \"))\n",
    "exponent = int(input(\"Enter the exponent: \"))\n",
    "result = power(base, exponent)\n",
    "print(\"Result:\", result)"
   ]
  },
  {
   "cell_type": "markdown",
   "id": "f291aed1",
   "metadata": {},
   "source": [
    "# Question 33"
   ]
  },
  {
   "cell_type": "code",
   "execution_count": 50,
   "id": "9909f574",
   "metadata": {},
   "outputs": [
    {
     "name": "stdout",
     "output_type": "stream",
     "text": [
      "Enter a list of numbers: 2 3 4 2 3 4 2 4 5 6\n",
      "List with duplicates removed: [2, 3, 4, 5, 6]\n"
     ]
    }
   ],
   "source": [
    "def remove_duplicates(lst):\n",
    "    unique_items = []\n",
    "    for item in lst:\n",
    "        if item not in unique_items:\n",
    "            unique_items.append(item)\n",
    "    return unique_items\n",
    "\n",
    "numbers = input(\"Enter a list of numbers: \").split()\n",
    "numbers = [int(num) for num in numbers]\n",
    "unique_numbers = remove_duplicates(numbers)\n",
    "print(\"List with duplicates removed:\", unique_numbers)"
   ]
  },
  {
   "cell_type": "markdown",
   "id": "2bb2157b",
   "metadata": {},
   "source": [
    "# Question 34"
   ]
  },
  {
   "cell_type": "code",
   "execution_count": 52,
   "id": "1c8b6d8c",
   "metadata": {},
   "outputs": [
    {
     "name": "stdout",
     "output_type": "stream",
     "text": [
      "Enter a list of strings: abc abcderfsdf asdafdwfe asdafe\n",
      "Longest common prefix: a\n"
     ]
    }
   ],
   "source": [
    "def find_longest_common_prefix(strings):\n",
    "    if not strings:\n",
    "        return \"\"\n",
    "\n",
    "    prefix = strings[0]\n",
    "\n",
    "    for string in strings[1:]:\n",
    "        while not string.startswith(prefix):\n",
    "            prefix = prefix[:-1]\n",
    "            if not prefix:\n",
    "                return \"\"\n",
    "\n",
    "    return prefix\n",
    "\n",
    "strings = input(\"Enter a list of strings: \").split()\n",
    "longest_common_prefix = find_longest_common_prefix(strings)\n",
    "print(\"Longest common prefix:\", longest_common_prefix)"
   ]
  },
  {
   "cell_type": "markdown",
   "id": "e29f7be2",
   "metadata": {},
   "source": [
    "# Question 35"
   ]
  },
  {
   "cell_type": "code",
   "execution_count": 53,
   "id": "53ada38d",
   "metadata": {},
   "outputs": [
    {
     "name": "stdout",
     "output_type": "stream",
     "text": [
      "Enter a number: 100\n",
      "The number is a perfect square.\n"
     ]
    }
   ],
   "source": [
    "def is_perfect_square(num):\n",
    "    if num < 0:\n",
    "        return False\n",
    "\n",
    "    sqrt = int(num ** 0.5)\n",
    "    return sqrt * sqrt == num\n",
    "\n",
    "number = int(input(\"Enter a number: \"))\n",
    "if is_perfect_square(number):\n",
    "    print(\"The number is a perfect square.\")\n",
    "else:\n",
    "    print(\"The number is not a perfect square.\")"
   ]
  },
  {
   "cell_type": "markdown",
   "id": "e6041466",
   "metadata": {},
   "source": [
    "# Question 36"
   ]
  },
  {
   "cell_type": "code",
   "execution_count": 54,
   "id": "66bf7f4f",
   "metadata": {},
   "outputs": [
    {
     "name": "stdout",
     "output_type": "stream",
     "text": [
      "Enter a list of numbers: 2 3 4 5 6\n",
      "Product: 720\n"
     ]
    }
   ],
   "source": [
    "def calculate_product(numbers):\n",
    "    product = 1\n",
    "    for num in numbers:\n",
    "        product *= num\n",
    "    return product\n",
    "\n",
    "# Test the function\n",
    "numbers = input(\"Enter a list of numbers: \").split()\n",
    "numbers = [int(num) for num in numbers]\n",
    "product = calculate_product(numbers)\n",
    "print(\"Product:\", product)"
   ]
  },
  {
   "cell_type": "markdown",
   "id": "009b66c8",
   "metadata": {},
   "source": [
    "# Question 37"
   ]
  },
  {
   "cell_type": "code",
   "execution_count": 55,
   "id": "9b06b441",
   "metadata": {},
   "outputs": [
    {
     "name": "stdout",
     "output_type": "stream",
     "text": [
      "Enter a sentence: I keen to learn Data Science\n",
      "Result: Science Data learn to keen I\n"
     ]
    }
   ],
   "source": [
    "def reverse_words(sentence):\n",
    "    words = sentence.split()\n",
    "    reversed_words = words[::-1]\n",
    "    reversed_sentence = ' '.join(reversed_words)\n",
    "    return reversed_sentence\n",
    "\n",
    "sentence = input(\"Enter a sentence: \")\n",
    "result = reverse_words(sentence)\n",
    "print(\"Result:\", result)"
   ]
  },
  {
   "cell_type": "markdown",
   "id": "9c25bf82",
   "metadata": {},
   "source": [
    "# Question 38"
   ]
  },
  {
   "cell_type": "code",
   "execution_count": 56,
   "id": "2310d9aa",
   "metadata": {},
   "outputs": [
    {
     "name": "stdout",
     "output_type": "stream",
     "text": [
      "Enter a list of numbers: 2 3 4 5 6 7 \n",
      "Missing number: 1\n"
     ]
    }
   ],
   "source": [
    "def find_missing_number(numbers):\n",
    "    n = len(numbers) + 1\n",
    "    total_sum = (n * (n + 1)) // 2\n",
    "    actual_sum = sum(numbers)\n",
    "    missing_number = total_sum - actual_sum\n",
    "    return missing_number\n",
    "\n",
    "numbers = input(\"Enter a list of numbers: \").split()\n",
    "numbers = [int(num) for num in numbers]\n",
    "missing_number = find_missing_number(numbers)\n",
    "print(\"Missing number:\", missing_number)"
   ]
  },
  {
   "cell_type": "markdown",
   "id": "d3ee2f51",
   "metadata": {},
   "source": [
    "# Question 39"
   ]
  },
  {
   "cell_type": "code",
   "execution_count": 59,
   "id": "9fb30a25",
   "metadata": {},
   "outputs": [
    {
     "name": "stdout",
     "output_type": "stream",
     "text": [
      "Enter a number: 733\n",
      "Sum of digits: 13\n"
     ]
    }
   ],
   "source": [
    "def sum_of_digits(number):\n",
    "    total = 0\n",
    "    while number != 0:\n",
    "        digit = number % 10\n",
    "        total += digit\n",
    "        number //= 10\n",
    "    return total\n",
    "\n",
    "number = int(input(\"Enter a number: \"))\n",
    "digit_sum = sum_of_digits(number)\n",
    "print(\"Sum of digits:\", digit_sum)"
   ]
  },
  {
   "cell_type": "markdown",
   "id": "40fe6984",
   "metadata": {},
   "source": [
    "# Question 40"
   ]
  },
  {
   "cell_type": "code",
   "execution_count": 60,
   "id": "c4be3d4e",
   "metadata": {},
   "outputs": [
    {
     "name": "stdout",
     "output_type": "stream",
     "text": [
      "Enter a string: Rohit\n",
      "The string is not a valid palindrome.\n"
     ]
    }
   ],
   "source": [
    "def is_valid_palindrome(string):\n",
    "    normalized_string = string.lower()\n",
    "    return normalized_string == normalized_string[::-1]\n",
    "\n",
    "string = input(\"Enter a string: \")\n",
    "if is_valid_palindrome(string):\n",
    "    print(\"The string is a valid palindrome.\")\n",
    "else:\n",
    "    print(\"The string is not a valid palindrome.\")"
   ]
  },
  {
   "cell_type": "markdown",
   "id": "80dc6d8d",
   "metadata": {},
   "source": [
    "# Question 41"
   ]
  },
  {
   "cell_type": "code",
   "execution_count": 63,
   "id": "87c74a2b",
   "metadata": {},
   "outputs": [
    {
     "name": "stdout",
     "output_type": "stream",
     "text": [
      "Enter a list of numbers (space-separated): 4 5 6 7 3 2 1\n",
      "Smallest missing positive integer: 8\n"
     ]
    }
   ],
   "source": [
    "def find_smallest_missing_positive(numbers):\n",
    "    n = len(numbers)\n",
    "    for i in range(n):\n",
    "        while 1 <= numbers[i] <= n and numbers[numbers[i] - 1] != numbers[i]:\n",
    "            numbers[numbers[i] - 1], numbers[i] = numbers[i], numbers[numbers[i] - 1]\n",
    "\n",
    "    for i in range(n):\n",
    "        if numbers[i] != i + 1:\n",
    "            return i + 1\n",
    "\n",
    "    return n + 1\n",
    "\n",
    "numbers = input(\"Enter a list of numbers (space-separated): \").split()\n",
    "numbers = [int(num) for num in numbers]\n",
    "smallest_missing = find_smallest_missing_positive(numbers)\n",
    "print(\"Smallest missing positive integer:\", smallest_missing)"
   ]
  },
  {
   "cell_type": "markdown",
   "id": "4006e5ba",
   "metadata": {},
   "source": [
    "# Question 42"
   ]
  },
  {
   "cell_type": "code",
   "execution_count": 64,
   "id": "3cd36a24",
   "metadata": {},
   "outputs": [
    {
     "name": "stdout",
     "output_type": "stream",
     "text": [
      "Enter a string: fanaf\n",
      "Longest palindrome substring: fanaf\n"
     ]
    }
   ],
   "source": [
    "def longest_palindrome_substring(string):\n",
    "    n = len(string)\n",
    "    max_length = 0\n",
    "    start = 0\n",
    "\n",
    "    for i in range(n):\n",
    "        left = right = i\n",
    "        while left >= 0 and right < n and string[left] == string[right]:\n",
    "            if right - left + 1 > max_length:\n",
    "                max_length = right - left + 1\n",
    "                start = left\n",
    "            left -= 1\n",
    "            right += 1\n",
    "\n",
    "        left = i\n",
    "        right = i + 1\n",
    "        while left >= 0 and right < n and string[left] == string[right]:\n",
    "            if right - left + 1 > max_length:\n",
    "                max_length = right - left + 1\n",
    "                start = left\n",
    "            left -= 1\n",
    "            right += 1\n",
    "\n",
    "    return string[start:start + max_length]\n",
    "\n",
    "string = input(\"Enter a string: \")\n",
    "result = longest_palindrome_substring(string)\n",
    "print(\"Longest palindrome substring:\", result)"
   ]
  },
  {
   "cell_type": "markdown",
   "id": "faef629e",
   "metadata": {},
   "source": [
    "# Question 43"
   ]
  },
  {
   "cell_type": "code",
   "execution_count": 66,
   "id": "37a19263",
   "metadata": {},
   "outputs": [
    {
     "name": "stdout",
     "output_type": "stream",
     "text": [
      "Enter a list of numbers:  9 8 8 4 3 5 6 3 3 5 5\n",
      "Enter the element to count: 5\n",
      "Number of occurrences: 3\n"
     ]
    }
   ],
   "source": [
    "def count_occurrences(numbers, element):\n",
    "    count = 0\n",
    "    for num in numbers:\n",
    "        if num == element:\n",
    "            count += 1\n",
    "    return count\n",
    "\n",
    "numbers = input(\"Enter a list of numbers: \").split()\n",
    "numbers = [int(num) for num in numbers] \n",
    "element = int(input(\"Enter the element to count: \"))\n",
    "occurrences = count_occurrences(numbers, element)\n",
    "print(\"Number of occurrences:\", occurrences)"
   ]
  },
  {
   "cell_type": "markdown",
   "id": "d1ae78ce",
   "metadata": {},
   "source": [
    "# Question 44"
   ]
  },
  {
   "cell_type": "code",
   "execution_count": 61,
   "id": "20bb6174",
   "metadata": {},
   "outputs": [
    {
     "name": "stdout",
     "output_type": "stream",
     "text": [
      "Enter a number: 66\n",
      "The number is not a perfect number.\n"
     ]
    }
   ],
   "source": [
    "def is_perfect_number(number):\n",
    "    if number <= 0:\n",
    "        return False\n",
    "\n",
    "    divisors = [1]\n",
    "    for i in range(2, int(number ** 0.5) + 1):\n",
    "        if number % i == 0:\n",
    "            divisors.extend([i, number // i])\n",
    "\n",
    "    return sum(divisors) == number\n",
    "\n",
    "number = int(input(\"Enter a number: \"))\n",
    "if is_perfect_number(number):\n",
    "    print(\"The number is a perfect number.\")\n",
    "else:\n",
    "    print(\"The number is not a perfect number.\")\n"
   ]
  },
  {
   "cell_type": "markdown",
   "id": "c06d6356",
   "metadata": {},
   "source": [
    "# Question 45"
   ]
  },
  {
   "cell_type": "code",
   "execution_count": 67,
   "id": "a4effd02",
   "metadata": {},
   "outputs": [
    {
     "name": "stdout",
     "output_type": "stream",
     "text": [
      "Enter a string: RRphit \n",
      "String with duplicates removed: Rphit \n"
     ]
    }
   ],
   "source": [
    "def remove_duplicates(string):\n",
    "    unique_chars = []\n",
    "    for char in string:\n",
    "        if char not in unique_chars:\n",
    "            unique_chars.append(char)\n",
    "    return ''.join(unique_chars)\n",
    "\n",
    "string = input(\"Enter a string: \")\n",
    "result = remove_duplicates(string)\n",
    "print(\"String with duplicates removed:\", result)"
   ]
  },
  {
   "cell_type": "markdown",
   "id": "af15ce2f",
   "metadata": {},
   "source": [
    "# Question 46"
   ]
  },
  {
   "cell_type": "code",
   "execution_count": 69,
   "id": "76187a1c",
   "metadata": {},
   "outputs": [
    {
     "name": "stdout",
     "output_type": "stream",
     "text": [
      "Enter a list of numbers: 2 3 4 9 7 5 6 3\n",
      "First missing positive: 1\n"
     ]
    }
   ],
   "source": [
    "def find_first_missing_positive(numbers):\n",
    "    n = len(numbers)\n",
    "\n",
    "    for i in range(n):\n",
    "        while 1 <= numbers[i] <= n and numbers[numbers[i] - 1] != numbers[i]:\n",
    "            numbers[numbers[i] - 1], numbers[i] = numbers[i], numbers[numbers[i] - 1]\n",
    "\n",
    "    for i in range(n):\n",
    "        if numbers[i] != i + 1:\n",
    "            return i + 1\n",
    "\n",
    "    return n + 1\n",
    "\n",
    "numbers = input(\"Enter a list of numbers: \").split()\n",
    "numbers = [int(num) for num in numbers]\n",
    "missing_positive = find_first_missing_positive(numbers)\n",
    "print(\"First missing positive:\", missing_positive)"
   ]
  },
  {
   "cell_type": "code",
   "execution_count": null,
   "id": "d2707ca2",
   "metadata": {},
   "outputs": [],
   "source": []
  }
 ],
 "metadata": {
  "kernelspec": {
   "display_name": "Python 3 (ipykernel)",
   "language": "python",
   "name": "python3"
  },
  "language_info": {
   "codemirror_mode": {
    "name": "ipython",
    "version": 3
   },
   "file_extension": ".py",
   "mimetype": "text/x-python",
   "name": "python",
   "nbconvert_exporter": "python",
   "pygments_lexer": "ipython3",
   "version": "3.9.13"
  }
 },
 "nbformat": 4,
 "nbformat_minor": 5
}
