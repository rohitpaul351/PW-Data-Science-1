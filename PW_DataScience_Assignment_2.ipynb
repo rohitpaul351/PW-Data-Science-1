{
 "cells": [
  {
   "cell_type": "markdown",
   "id": "d49981c7",
   "metadata": {},
   "source": [
    "# Question 1"
   ]
  },
  {
   "cell_type": "code",
   "execution_count": 1,
   "id": "1f288e20",
   "metadata": {},
   "outputs": [
    {
     "name": "stdout",
     "output_type": "stream",
     "text": [
      "Mean sales for Region A: 11.8\n",
      "Mean sales for Region B: 20.2\n"
     ]
    }
   ],
   "source": [
    "region_a_sales = [10, 15, 12, 8, 14]\n",
    "region_b_sales = [18, 20, 16, 22, 25]\n",
    "\n",
    "mean_region_a = sum(region_a_sales) / len(region_a_sales)\n",
    "mean_region_b = sum(region_b_sales) / len(region_b_sales)\n",
    "\n",
    "print(\"Mean sales for Region A:\", mean_region_a)\n",
    "print(\"Mean sales for Region B:\", mean_region_b)"
   ]
  },
  {
   "cell_type": "markdown",
   "id": "94b6a775",
   "metadata": {},
   "source": [
    "# Question 2"
   ]
  },
  {
   "cell_type": "code",
   "execution_count": 2,
   "id": "4bae77dc",
   "metadata": {},
   "outputs": [
    {
     "name": "stdout",
     "output_type": "stream",
     "text": [
      "Mode of the survey responses: 4\n"
     ]
    }
   ],
   "source": [
    "survey_responses = [4, 5, 2, 3, 5, 4, 3, 2, 4, 5]\n",
    "\n",
    "mode = max(set(survey_responses), key=survey_responses.count)\n",
    "\n",
    "print(\"Mode of the survey responses:\", mode)"
   ]
  },
  {
   "cell_type": "markdown",
   "id": "f77dff08",
   "metadata": {},
   "source": [
    "# Question 3"
   ]
  },
  {
   "cell_type": "code",
   "execution_count": 3,
   "id": "8188aad0",
   "metadata": {},
   "outputs": [
    {
     "name": "stdout",
     "output_type": "stream",
     "text": [
      "Median salary for Department A: 6000\n",
      "Median salary for Department B: 5500\n"
     ]
    }
   ],
   "source": [
    "department_a_salaries = [5000, 6000, 5500, 7000]\n",
    "department_b_salaries = [4500, 5500, 5800, 6000, 5200]\n",
    "\n",
    "sorted_department_a = sorted(department_a_salaries)\n",
    "sorted_department_b = sorted(department_b_salaries)\n",
    "\n",
    "median_department_a = sorted_department_a[len(sorted_department_a) // 2]\n",
    "median_department_b = sorted_department_b[len(sorted_department_b) // 2]\n",
    "\n",
    "print(\"Median salary for Department A:\", median_department_a)\n",
    "print(\"Median salary for Department B:\", median_department_b)"
   ]
  },
  {
   "cell_type": "markdown",
   "id": "8ee1efae",
   "metadata": {},
   "source": [
    "# Question 4"
   ]
  },
  {
   "cell_type": "code",
   "execution_count": 4,
   "id": "62e4c2bf",
   "metadata": {},
   "outputs": [
    {
     "name": "stdout",
     "output_type": "stream",
     "text": [
      "Range of the stock prices: 1.3000000000000007\n"
     ]
    }
   ],
   "source": [
    "stock_prices = [25.5, 24.8, 26.1, 25.3, 24.9]\n",
    "\n",
    "range_stock_prices = max(stock_prices) - min(stock_prices)\n",
    "\n",
    "print(\"Range of the stock prices:\", range_stock_prices)"
   ]
  },
  {
   "cell_type": "markdown",
   "id": "02757076",
   "metadata": {},
   "source": [
    "# Question 5"
   ]
  },
  {
   "cell_type": "code",
   "execution_count": 5,
   "id": "edd0a61c",
   "metadata": {},
   "outputs": [
    {
     "name": "stdout",
     "output_type": "stream",
     "text": [
      "There is no significant difference in the mean scores between the two groups.\n"
     ]
    }
   ],
   "source": [
    "import scipy.stats as stats\n",
    "\n",
    "group_a_scores = [85, 90, 92, 88, 91]\n",
    "group_b_scores = [82, 88, 90, 86, 87]\n",
    "\n",
    "t_statistic, p_value = stats.ttest_ind(group_a_scores, group_b_scores)\n",
    "\n",
    "alpha = 0.05  # significance level\n",
    "\n",
    "if p_value < alpha:\n",
    "    print(\"There is a significant difference in the mean scores between the two groups.\")\n",
    "else:\n",
    "    print(\"There is no significant difference in the mean scores between the two groups.\")"
   ]
  },
  {
   "cell_type": "markdown",
   "id": "f0e13452",
   "metadata": {},
   "source": [
    "# Question 6"
   ]
  },
  {
   "cell_type": "code",
   "execution_count": 6,
   "id": "30639066",
   "metadata": {},
   "outputs": [
    {
     "name": "stdout",
     "output_type": "stream",
     "text": [
      "Correlation coefficient between advertising expenditure and sales: 0.8757511375750133\n"
     ]
    }
   ],
   "source": [
    "import numpy as np\n",
    "\n",
    "advertising_expenditure = [10, 15, 12, 8, 14]\n",
    "sales = [25, 30, 28, 20, 26]\n",
    "\n",
    "correlation_coefficient = np.corrcoef(advertising_expenditure, sales)[0, 1]\n",
    "\n",
    "print(\"Correlation coefficient between advertising expenditure and sales:\", correlation_coefficient)"
   ]
  },
  {
   "cell_type": "markdown",
   "id": "5ade33d6",
   "metadata": {},
   "source": [
    "# Question 7"
   ]
  },
  {
   "cell_type": "code",
   "execution_count": 7,
   "id": "afa76463",
   "metadata": {},
   "outputs": [
    {
     "name": "stdout",
     "output_type": "stream",
     "text": [
      "Standard deviation of the heights: 8.591246929842246\n"
     ]
    }
   ],
   "source": [
    "import statistics\n",
    "\n",
    "heights = [160, 170, 165, 155, 175, 180, 170]\n",
    "\n",
    "std_deviation = statistics.stdev(heights)\n",
    "\n",
    "print(\"Standard deviation of the heights:\", std_deviation)"
   ]
  },
  {
   "cell_type": "markdown",
   "id": "2fe377f2",
   "metadata": {},
   "source": [
    "# Question 8"
   ]
  },
  {
   "cell_type": "code",
   "execution_count": 8,
   "id": "4bcfa778",
   "metadata": {},
   "outputs": [
    {
     "name": "stdout",
     "output_type": "stream",
     "text": [
      "Regression equation: Job Satisfaction = -0.4680851063829787 * Employee Tenure + 8.595744680851062\n"
     ]
    }
   ],
   "source": [
    "import numpy as np\n",
    "from sklearn.linear_model import LinearRegression\n",
    "\n",
    "employee_tenure = np.array([2, 3, 5, 4, 6, 2, 4]).reshape((-1, 1))\n",
    "job_satisfaction = np.array([7, 8, 6, 9, 5, 7, 6])\n",
    "\n",
    "regression_model = LinearRegression()\n",
    "regression_model.fit(employee_tenure, job_satisfaction)\n",
    "\n",
    "slope = regression_model.coef_[0]\n",
    "intercept = regression_model.intercept_\n",
    "\n",
    "print(\"Regression equation: Job Satisfaction = {} * Employee Tenure + {}\".format(slope, intercept))"
   ]
  },
  {
   "cell_type": "markdown",
   "id": "0dfff9bb",
   "metadata": {},
   "source": [
    "# Question 9"
   ]
  },
  {
   "cell_type": "code",
   "execution_count": 9,
   "id": "d727ebb7",
   "metadata": {},
   "outputs": [
    {
     "name": "stdout",
     "output_type": "stream",
     "text": [
      "There is a significant difference in the mean recovery times between the two medications.\n"
     ]
    }
   ],
   "source": [
    "import scipy.stats as stats\n",
    "\n",
    "medication_a_recovery_times = [10, 12, 14, 11, 13]\n",
    "medication_b_recovery_times = [15, 17, 16, 14, 18]\n",
    "\n",
    "f_value, p_value = stats.f_oneway(medication_a_recovery_times, medication_b_recovery_times)\n",
    "\n",
    "alpha = 0.05  # significance level\n",
    "\n",
    "if p_value < alpha:\n",
    "    print(\"There is a significant difference in the mean recovery times between the two medications.\")\n",
    "else:\n",
    "    print(\"There is no significant difference in the mean recovery times between the two medications.\")"
   ]
  },
  {
   "cell_type": "markdown",
   "id": "3113080a",
   "metadata": {},
   "source": [
    "# Question 10"
   ]
  },
  {
   "cell_type": "code",
   "execution_count": 10,
   "id": "bdb3c5b5",
   "metadata": {},
   "outputs": [
    {
     "name": "stdout",
     "output_type": "stream",
     "text": [
      "75th percentile of the feedback ratings: 8.75\n"
     ]
    }
   ],
   "source": [
    "import numpy as np\n",
    "\n",
    "feedback_ratings = [8, 9, 7, 6, 8, 10, 9, 8, 7, 8]\n",
    "\n",
    "percentile_75 = np.percentile(feedback_ratings, 75)\n",
    "\n",
    "print(\"75th percentile of the feedback ratings:\", percentile_75)"
   ]
  },
  {
   "cell_type": "markdown",
   "id": "8214a91d",
   "metadata": {},
   "source": [
    "# Question 11"
   ]
  },
  {
   "cell_type": "code",
   "execution_count": 11,
   "id": "18e32e04",
   "metadata": {},
   "outputs": [
    {
     "name": "stdout",
     "output_type": "stream",
     "text": [
      "The mean weight does not differ significantly from 10 grams.\n"
     ]
    }
   ],
   "source": [
    "import scipy.stats as stats\n",
    "\n",
    "sample_weights = [10.2, 9.8, 10.0, 10.5, 10.3, 10.1]\n",
    "\n",
    "t_statistic, p_value = stats.ttest_1samp(sample_weights, 10)\n",
    "\n",
    "alpha = 0.05  # significance level\n",
    "\n",
    "if p_value < alpha:\n",
    "    print(\"The mean weight differs significantly from 10 grams.\")\n",
    "else:\n",
    "    print(\"The mean weight does not differ significantly from 10 grams.\")"
   ]
  },
  {
   "cell_type": "markdown",
   "id": "63370949",
   "metadata": {},
   "source": [
    "# Question 12"
   ]
  },
  {
   "cell_type": "code",
   "execution_count": 12,
   "id": "c9e22269",
   "metadata": {},
   "outputs": [
    {
     "name": "stdout",
     "output_type": "stream",
     "text": [
      "There is no significant difference in the click-through rates between the two designs.\n"
     ]
    }
   ],
   "source": [
    "import scipy.stats as stats\n",
    "import numpy as np\n",
    "\n",
    "design_a_clicks = [100, 120, 110, 90, 95]\n",
    "design_b_clicks = [80, 85, 90, 95, 100]\n",
    "\n",
    "observed_frequencies = np.array([design_a_clicks, design_b_clicks])\n",
    "\n",
    "chi2_statistic, p_value = stats.chisquare(observed_frequencies, axis=None)\n",
    "\n",
    "alpha = 0.05  # significance level\n",
    "\n",
    "if p_value < alpha:\n",
    "    print(\"There is a significant difference in the click-through rates between the two designs.\")\n",
    "else:\n",
    "    print(\"There is no significant difference in the click-through rates between the two designs.\")"
   ]
  },
  {
   "cell_type": "markdown",
   "id": "10a5aaf1",
   "metadata": {},
   "source": [
    "# Question 13"
   ]
  },
  {
   "cell_type": "code",
   "execution_count": 13,
   "id": "39a1c434",
   "metadata": {},
   "outputs": [
    {
     "name": "stdout",
     "output_type": "stream",
     "text": [
      "95% Confidence Interval for the population mean satisfaction score: (7.043561120599888, 8.756438879400113)\n"
     ]
    }
   ],
   "source": [
    "import numpy as np\n",
    "import scipy.stats as stats\n",
    "\n",
    "satisfaction_scores = [7, 9, 6, 8, 10, 7, 8, 9, 7, 8]\n",
    "\n",
    "confidence_interval = stats.t.interval(0.95, len(satisfaction_scores) - 1,\n",
    "                                       loc=np.mean(satisfaction_scores),\n",
    "                                       scale=stats.sem(satisfaction_scores))\n",
    "\n",
    "print(\"95% Confidence Interval for the population mean satisfaction score:\", confidence_interval)"
   ]
  },
  {
   "cell_type": "markdown",
   "id": "7ef80534",
   "metadata": {},
   "source": [
    "# Question 14"
   ]
  },
  {
   "cell_type": "code",
   "execution_count": 14,
   "id": "4ca8b9ee",
   "metadata": {},
   "outputs": [
    {
     "name": "stdout",
     "output_type": "stream",
     "text": [
      "Regression equation: Performance = 0.4999999999999999 * Temperature + -2.8999999999999986\n"
     ]
    }
   ],
   "source": [
    "import numpy as np\n",
    "from sklearn.linear_model import LinearRegression\n",
    "\n",
    "temperature = np.array([20, 22, 23, 19, 21]).reshape((-1, 1))\n",
    "performance = np.array([8, 7, 9, 6, 8])\n",
    "\n",
    "regression_model = LinearRegression()\n",
    "regression_model.fit(temperature, performance)\n",
    "\n",
    "slope = regression_model.coef_[0]\n",
    "intercept = regression_model.intercept_\n",
    "\n",
    "print(\"Regression equation: Performance = {} * Temperature + {}\".format(slope, intercept))"
   ]
  },
  {
   "cell_type": "markdown",
   "id": "194d53c1",
   "metadata": {},
   "source": [
    "# Question 15"
   ]
  },
  {
   "cell_type": "code",
   "execution_count": 15,
   "id": "6cf92510",
   "metadata": {},
   "outputs": [
    {
     "name": "stdout",
     "output_type": "stream",
     "text": [
      "There is no significant difference in the median preferences between the two groups.\n"
     ]
    }
   ],
   "source": [
    "import scipy.stats as stats\n",
    "\n",
    "group_a_preferences = [4, 3, 5, 2, 4]\n",
    "group_b_preferences = [3, 2, 4, 3, 3]\n",
    "\n",
    "U_statistic, p_value = stats.mannwhitneyu(group_a_preferences, group_b_preferences)\n",
    "\n",
    "alpha = 0.05  # significance level\n",
    "\n",
    "if p_value < alpha:\n",
    "    print(\"There is a significant difference in the median preferences between the two groups.\")\n",
    "else:\n",
    "    print(\"There is no significant difference in the median preferences between the two groups.\")"
   ]
  },
  {
   "cell_type": "markdown",
   "id": "7174d763",
   "metadata": {},
   "source": [
    "# Question 16"
   ]
  },
  {
   "cell_type": "code",
   "execution_count": 16,
   "id": "156a5958",
   "metadata": {},
   "outputs": [
    {
     "name": "stdout",
     "output_type": "stream",
     "text": [
      "Interquartile Range (IQR) of the ages: 22.5\n"
     ]
    }
   ],
   "source": [
    "import numpy as np\n",
    "\n",
    "ages = [25, 30, 35, 40, 45, 50, 55, 60, 65, 70]\n",
    "\n",
    "q1 = np.percentile(ages, 25)\n",
    "q3 = np.percentile(ages, 75)\n",
    "\n",
    "iqr = q3 - q1\n",
    "\n",
    "print(\"Interquartile Range (IQR) of the ages:\", iqr)"
   ]
  },
  {
   "cell_type": "markdown",
   "id": "19baec01",
   "metadata": {},
   "source": [
    "# Question 17"
   ]
  },
  {
   "cell_type": "code",
   "execution_count": 17,
   "id": "990e901a",
   "metadata": {},
   "outputs": [
    {
     "name": "stdout",
     "output_type": "stream",
     "text": [
      "There is a significant difference in the median accuracy scores between the algorithms.\n"
     ]
    }
   ],
   "source": [
    "import scipy.stats as stats\n",
    "\n",
    "algorithm_a_scores = [0.85, 0.80, 0.82, 0.87, 0.83]\n",
    "algorithm_b_scores = [0.78, 0.82, 0.84, 0.80, 0.79]\n",
    "algorithm_c_scores = [0.90, 0.88, 0.89, 0.86, 0.87]\n",
    "\n",
    "H_statistic, p_value = stats.kruskal(algorithm_a_scores, algorithm_b_scores, algorithm_c_scores)\n",
    "\n",
    "alpha = 0.05  # significance level\n",
    "\n",
    "if p_value < alpha:\n",
    "    print(\"There is a significant difference in the median accuracy scores between the algorithms.\")\n",
    "else:\n",
    "    print(\"There is no significant difference in the median accuracy scores between the algorithms.\")"
   ]
  },
  {
   "cell_type": "markdown",
   "id": "16ba23d4",
   "metadata": {},
   "source": [
    "# Question 18"
   ]
  },
  {
   "cell_type": "code",
   "execution_count": 18,
   "id": "b2f007fc",
   "metadata": {},
   "outputs": [
    {
     "name": "stdout",
     "output_type": "stream",
     "text": [
      "Regression equation: Sales = -3.5060975609756113 * Price + 136.37195121951223\n"
     ]
    }
   ],
   "source": [
    "import numpy as np\n",
    "from sklearn.linear_model import LinearRegression\n",
    "\n",
    "price = np.array([10, 15, 12, 8, 14]).reshape((-1, 1))\n",
    "sales = np.array([100, 80, 90, 110, 95])\n",
    "\n",
    "regression_model = LinearRegression()\n",
    "regression_model.fit(price, sales)\n",
    "\n",
    "slope = regression_model.coef_[0]\n",
    "intercept = regression_model.intercept_\n",
    "\n",
    "print(\"Regression equation: Sales = {} * Price + {}\".format(slope, intercept))"
   ]
  },
  {
   "cell_type": "markdown",
   "id": "2d166e73",
   "metadata": {},
   "source": [
    "# Question 19"
   ]
  },
  {
   "cell_type": "code",
   "execution_count": 19,
   "id": "bae0acde",
   "metadata": {},
   "outputs": [
    {
     "name": "stdout",
     "output_type": "stream",
     "text": [
      "Standard Error of the Mean satisfaction score: 0.30550504633038933\n"
     ]
    }
   ],
   "source": [
    "import numpy as np\n",
    "import scipy.stats as stats\n",
    "\n",
    "satisfaction_scores = [7, 8, 9, 6, 8, 7, 9, 7, 8, 7]\n",
    "\n",
    "standard_error = stats.sem(satisfaction_scores)\n",
    "\n",
    "print(\"Standard Error of the Mean satisfaction score:\", standard_error)"
   ]
  },
  {
   "cell_type": "markdown",
   "id": "87556225",
   "metadata": {},
   "source": [
    "# Question 20"
   ]
  },
  {
   "cell_type": "code",
   "execution_count": 20,
   "id": "efe04c64",
   "metadata": {},
   "outputs": [
    {
     "name": "stdout",
     "output_type": "stream",
     "text": [
      "Regression equation: Sales = 1.152439024390244 * Advertising Expenditure + 12.20121951219512\n"
     ]
    }
   ],
   "source": [
    "import numpy as np\n",
    "from sklearn.linear_model import LinearRegression\n",
    "\n",
    "advertising_expenditure = np.array([10, 15, 12, 8, 14]).reshape((-1, 1))\n",
    "sales = np.array([25, 30, 28, 20, 26])\n",
    "\n",
    "regression_model = LinearRegression()\n",
    "regression_model.fit(advertising_expenditure, sales)\n",
    "\n",
    "slope = regression_model.coef_[0]\n",
    "intercept = regression_model.intercept_\n",
    "\n",
    "print(\"Regression equation: Sales = {} * Advertising Expenditure + {}\".format(slope, intercept))"
   ]
  },
  {
   "cell_type": "code",
   "execution_count": null,
   "id": "642f15aa",
   "metadata": {},
   "outputs": [],
   "source": []
  },
  {
   "cell_type": "code",
   "execution_count": null,
   "id": "58f049fa",
   "metadata": {},
   "outputs": [],
   "source": []
  }
 ],
 "metadata": {
  "kernelspec": {
   "display_name": "Python 3 (ipykernel)",
   "language": "python",
   "name": "python3"
  },
  "language_info": {
   "codemirror_mode": {
    "name": "ipython",
    "version": 3
   },
   "file_extension": ".py",
   "mimetype": "text/x-python",
   "name": "python",
   "nbconvert_exporter": "python",
   "pygments_lexer": "ipython3",
   "version": "3.9.13"
  }
 },
 "nbformat": 4,
 "nbformat_minor": 5
}
